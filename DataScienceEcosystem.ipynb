{
  "metadata": {
    "kernelspec": {
      "name": "python",
      "display_name": "Python (Pyodide)",
      "language": "python"
    },
    "language_info": {
      "codemirror_mode": {
        "name": "python",
        "version": 3
      },
      "file_extension": ".py",
      "mimetype": "text/x-python",
      "name": "python",
      "nbconvert_exporter": "python",
      "pygments_lexer": "ipython3",
      "version": "3.8"
    }
  },
  "nbformat_minor": 5,
  "nbformat": 4,
  "cells": [
    {
      "id": "28600efc-969f-484f-b9de-2f6361613001",
      "cell_type": "markdown",
      "source": "# Data Science Tools and Ecosystem",
      "metadata": {}
    },
    {
      "id": "5193d556-16ef-4131-850a-9aa6fac345ac",
      "cell_type": "markdown",
      "source": "In this notebook, Data Science Tools and Ecosystem are summarized.",
      "metadata": {}
    },
    {
      "id": "15658de0-3a86-4558-bfa1-ebc7c9befcd7",
      "cell_type": "markdown",
      "source": "__Objectives:__\n- List popular languages for Data Science\n- List commonly used libraries for Data Science\n- List most popular Integrated Development Environments used for Data Science\n- Show some examples of how to write arithmetic expression in Python",
      "metadata": {}
    },
    {
      "id": "66c753cd-72e1-4d30-9a9e-4af5a34ece50",
      "cell_type": "markdown",
      "source": "Some of the popular languages that Data Scientists use are:\n1. Python\n2. R\n3. Scala\n4. Julia",
      "metadata": {}
    },
    {
      "id": "3bee49a3-8a3c-4337-a68b-c18598b0eddc",
      "cell_type": "markdown",
      "source": "Some of the commonly used libraries used by Data Scientists include:\n1. pandas\n2. ggplot\n3. dplyr\n4. keras\n5. tensorflow",
      "metadata": {}
    },
    {
      "id": "30de7605-314c-449e-bf42-425905c8afb4",
      "cell_type": "markdown",
      "source": "| Data Science Tools |\n| ------------------- |\n| Spyder |\n| Rstudio|\n| Jupyter Notebook |",
      "metadata": {}
    },
    {
      "id": "503858b8-d303-41dd-9bbd-eb18018ce44e",
      "cell_type": "markdown",
      "source": "### Below are a few examples of evaluating arithmetic expressions in Python",
      "metadata": {}
    },
    {
      "id": "56bf727b-4f60-489e-b231-0fd10933f774",
      "cell_type": "code",
      "source": "# This a simple arithmetic expression to multiply then add integers\n(3*4)+5",
      "metadata": {
        "trusted": true
      },
      "outputs": [
        {
          "execution_count": 1,
          "output_type": "execute_result",
          "data": {
            "text/plain": "17"
          },
          "metadata": {}
        }
      ],
      "execution_count": 1
    },
    {
      "id": "09df2ef0-794e-4de8-a6eb-2b4e1339addc",
      "cell_type": "code",
      "source": "# This will convert 200 minutes to hours by dividing by 60\n200/60",
      "metadata": {
        "trusted": true
      },
      "outputs": [
        {
          "execution_count": 2,
          "output_type": "execute_result",
          "data": {
            "text/plain": "3.3333333333333335"
          },
          "metadata": {}
        }
      ],
      "execution_count": 2
    },
    {
      "id": "130e498a-d363-4ab1-91af-1dc764bb86b9",
      "cell_type": "markdown",
      "source": "## Author\nMarlon",
      "metadata": {}
    },
    {
      "id": "cd6334a1-b7d5-4bf8-967b-223e1ec47864",
      "cell_type": "code",
      "source": "",
      "metadata": {
        "trusted": true
      },
      "outputs": [],
      "execution_count": null
    }
  ]
}